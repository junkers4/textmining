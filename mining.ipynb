{
 "cells": [
  {
   "cell_type": "code",
   "execution_count": null,
   "id": "e4458185",
   "metadata": {},
   "outputs": [],
   "source": [
    "# Import potrebných knižníc\n",
    "import pandas as pd\n",
    "import nltk\n",
    "from nltk.tokenize import word_tokenize\n",
    "from nltk.corpus import stopwords\n",
    "from nltk.stem import SnowballStemmer\n",
    "import spacy\n",
    "from sklearn.feature_extraction.text import TfidfVectorizer\n",
    "import re\n",
    "\n",
    "# Stiahnutie NLTK dát (ak ešte nie sú stiahnuté)\n",
    "nltk.download('punkt')\n",
    "nltk.download('stopwords')\n",
    "\n",
    "# Načítanie CSV súboru\n",
    "# Predpokladáme, že CSV má stĺpec 'text' s textovými dátami\n",
    "df = pd.read_csv('data.csv')  # Nahraď 'data.csv' správnym názvom súboru\n",
    "print(\"Prvé riadky dát:\")\n",
    "print(df.head())\n",
    "\n",
    "# Základné štatistiky\n",
    "print(\"\\nZákladné informácie o dátach:\")\n",
    "print(df.info())"
   ]
  }
 ],
 "metadata": {
  "kernelspec": {
   "display_name": "Python 3",
   "language": "python",
   "name": "python3"
  },
  "language_info": {
   "name": "python",
   "version": "3.12.1"
  }
 },
 "nbformat": 4,
 "nbformat_minor": 5
}
